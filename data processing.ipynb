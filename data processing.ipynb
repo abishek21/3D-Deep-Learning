{
 "cells": [
  {
   "cell_type": "code",
   "execution_count": 2,
   "metadata": {},
   "outputs": [
    {
     "name": "stdout",
     "output_type": "stream",
     "text": [
      "Jupyter environment detected. Enabling Open3D WebVisualizer.\n",
      "[Open3D INFO] WebRTC GUI backend enabled.\n",
      "[Open3D INFO] WebRTCWindowSystem: HTTP handshake server disabled.\n"
     ]
    }
   ],
   "source": [
    "import open3d"
   ]
  },
  {
   "cell_type": "code",
   "execution_count": 6,
   "metadata": {},
   "outputs": [
    {
     "name": "stdout",
     "output_type": "stream",
     "text": [
      "visualizing the mesh using open3D\n"
     ]
    }
   ],
   "source": [
    "\n",
    "\n",
    "mesh_file = \"cube.ply\"\n",
    "print('visualizing the mesh using open3D')\n",
    "mesh = open3d.io.read_triangle_mesh(mesh_file)\n",
    "open3d.visualization.draw_geometries([mesh],\n",
    "                                     mesh_show_wireframe = True,\n",
    "                                     mesh_show_back_face = True,\n",
    "                                     )"
   ]
  },
  {
   "cell_type": "code",
   "execution_count": 7,
   "metadata": {},
   "outputs": [
    {
     "name": "stdout",
     "output_type": "stream",
     "text": [
      "visualizing the mesh using open3D\n"
     ]
    }
   ],
   "source": [
    "mesh_file = \"/home/frank/Desktop/3d_dl/parallel_plane_color.ply\"\n",
    "print('visualizing the mesh using open3D')\n",
    "mesh = open3d.io.read_triangle_mesh(mesh_file)\n",
    "open3d.visualization.draw_geometries([mesh],\n",
    "                                     mesh_show_wireframe = True,\n",
    "                                     mesh_show_back_face = True,\n",
    "                                     )"
   ]
  },
  {
   "cell_type": "code",
   "execution_count": 8,
   "metadata": {},
   "outputs": [
    {
     "name": "stdout",
     "output_type": "stream",
     "text": [
      "visualizing the mesh using open3D\n"
     ]
    }
   ],
   "source": [
    "mesh_file = '/home/frank/Desktop/3d_dl/parallel_plane_mono.ply'\n",
    "\n",
    "print('visualizing the mesh using open3D')\n",
    "mesh = open3d.io.read_triangle_mesh(mesh_file)\n",
    "open3d.visualization.draw_geometries([mesh],\n",
    "                                     mesh_show_wireframe = True,\n",
    "                                     mesh_show_back_face = True,\n",
    "                                     )"
   ]
  },
  {
   "cell_type": "code",
   "execution_count": 11,
   "metadata": {},
   "outputs": [
    {
     "name": "stdout",
     "output_type": "stream",
     "text": [
      "visualizing the mesh using open3D\n"
     ]
    }
   ],
   "source": [
    "mesh_file = \"/home/frank/Desktop/3d_dl/cube.obj\"\n",
    "print('visualizing the mesh using open3D')\n",
    "mesh = open3d.io.read_triangle_mesh(mesh_file)\n",
    "open3d.visualization.draw_geometries([mesh],\n",
    "                                     mesh_show_wireframe = True,\n",
    "                                     mesh_show_back_face = True,\n",
    "                                     )"
   ]
  },
  {
   "cell_type": "code",
   "execution_count": 13,
   "metadata": {},
   "outputs": [
    {
     "name": "stdout",
     "output_type": "stream",
     "text": [
      "visualizing the mesh using open3D\n",
      "\u001b[1;33m[Open3D WARNING] Read JPG failed: unable to open file: /home/frank/Desktop/3d_dl/./wal67ar_small.jpg\u001b[0;m\n"
     ]
    }
   ],
   "source": [
    "mesh_file='/home/frank/Desktop/3d_dl/cube_texture.obj'\n",
    "print('visualizing the mesh using open3D')\n",
    "mesh = open3d.io.read_triangle_mesh(mesh_file)\n",
    "open3d.visualization.draw_geometries([mesh],\n",
    "                                     mesh_show_wireframe = True,\n",
    "                                     mesh_show_back_face = True,\n",
    "                                     )"
   ]
  },
  {
   "cell_type": "code",
   "execution_count": 14,
   "metadata": {},
   "outputs": [
    {
     "name": "stdout",
     "output_type": "stream",
     "text": [
      "visualizing the mesh using open3D\n"
     ]
    }
   ],
   "source": [
    "print('visualizing the mesh using open3D')\n",
    "mesh = open3d.io.read_triangle_mesh(mesh_file)\n",
    "open3d.visualization.draw_geometries([mesh],\n",
    "                                     mesh_show_wireframe = True,\n",
    "                                     mesh_show_back_face = True,\n",
    "                                     )"
   ]
  },
  {
   "cell_type": "code",
   "execution_count": null,
   "metadata": {},
   "outputs": [],
   "source": []
  }
 ],
 "metadata": {
  "kernelspec": {
   "display_name": "python3d",
   "language": "python",
   "name": "python3d"
  },
  "language_info": {
   "codemirror_mode": {
    "name": "ipython",
    "version": 3
   },
   "file_extension": ".py",
   "mimetype": "text/x-python",
   "name": "python",
   "nbconvert_exporter": "python",
   "pygments_lexer": "ipython3",
   "version": "3.10.13"
  }
 },
 "nbformat": 4,
 "nbformat_minor": 2
}
